{
 "cells": [
  {
   "cell_type": "markdown",
   "metadata": {},
   "source": [
    "# This notebook explores the initial scripts necessary to extract the financial data from Apple's SEC Filings"
   ]
  },
  {
   "cell_type": "code",
   "execution_count": 1,
   "metadata": {},
   "outputs": [
    {
     "name": "stdout",
     "output_type": "stream",
     "text": [
      " Successfully opened data/2024-10q.xls.\n",
      "Here are the names of all the sheets found inside:\n",
      "['Table_Of_Contents', 'TABLE1', 'TABLE2', 'TABLE3', 'INCOME_STATEMENT', 'TABLE4', 'BALANCE_SHEET', 'BALANCE_SHEET2', 'STOCKHOLDERS_EQUITY', 'CASH_FLOW', 'TABLE5', 'TABLE6', 'TABLE7', 'TABLE8', 'TABLE9', 'TABLE10', 'TABLE11', 'TABLE12', 'TABLE13', 'TABLE14', 'TABLE15', 'TABLE16', 'TABLE17', 'TABLE18', 'TABLE19', 'TABLE20', 'TABLE21', 'TABLE22', 'TABLE23', 'TABLE24']\n"
     ]
    }
   ],
   "source": [
    "import pandas as pd\n",
    "\n",
    "file_to_inspect = 'data/2024-10q.xls'\n",
    "\n",
    "try:\n",
    "    # First, we open the Excel file\n",
    "    xls = pd.ExcelFile(file_to_inspect)\n",
    "    \n",
    "    # Now, we can ask it for the names of all the sheets inside\n",
    "    print(f\" Successfully opened {file_to_inspect}.\")\n",
    "    print(\"Here are the names of all the sheets found inside:\")\n",
    "    print(xls.sheet_names)\n",
    "\n",
    "except Exception as e:\n",
    "    print(f\"❌ An error occurred: {e}\")"
   ]
  }
 ],
 "metadata": {
  "kernelspec": {
   "display_name": "financeVenv",
   "language": "python",
   "name": "python3"
  },
  "language_info": {
   "codemirror_mode": {
    "name": "ipython",
    "version": 3
   },
   "file_extension": ".py",
   "mimetype": "text/x-python",
   "name": "python",
   "nbconvert_exporter": "python",
   "pygments_lexer": "ipython3",
   "version": "3.12.6"
  }
 },
 "nbformat": 4,
 "nbformat_minor": 2
}
